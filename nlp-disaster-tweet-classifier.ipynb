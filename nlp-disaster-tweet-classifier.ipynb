{
 "cells": [
  {
   "cell_type": "markdown",
   "id": "af115367",
   "metadata": {
    "papermill": {
     "duration": 0.007963,
     "end_time": "2025-06-21T15:05:35.449178",
     "exception": false,
     "start_time": "2025-06-21T15:05:35.441215",
     "status": "completed"
    },
    "tags": []
   },
   "source": [
    "# Disaster Tweet Classification\n",
    "\n",
    "## Problem Overview\n",
    "\n",
    "Social media platforms, particularly Twitter (now X), have become crucial communication channels during emergency situations. The ubiquity of smartphones enables people to report disasters and emergencies in real-time, making these platforms valuable resources for:\n",
    "\n",
    "- **Disaster relief organizations** seeking to identify and respond to emergencies\n",
    "- **News agencies** monitoring breaking news and emergency situations\n",
    "- **Emergency response teams** coordinating rescue and relief efforts\n",
    "\n",
    "## The Challenge\n",
    "\n",
    "While Twitter provides a wealth of real-time information during disasters, distinguishing between tweets that report **actual emergencies** versus those using **metaphorical language** presents a significant challenge for automated systems.\n",
    "\n",
    "Consider an example (from the Kaggle competition intro page) - a tweet containing the word \"ABLAZE\" could refer to:\n",
    "- **Literal disaster**: \"The building is ablaze - fire department needed!\"\n",
    "- **Metaphorical usage**: \"The team's performance was absolutely ablaze tonight!\"\n",
    "\n",
    "While humans can easily distinguish between these contexts (especially with visual cues), machine learning models face difficulty interpreting the subtle linguistic and contextual differences that determine meaning.\n",
    "\n",
    "## Project Objective\n",
    "\n",
    "**Goal**: Build a machine learning model that can accurately classify tweets as either:\n",
    "- **Disaster-related**: Reports of actual emergencies, disasters, or dangerous situations\n",
    "- **Non-disaster**: Metaphorical usage, everyday conversations, or unrelated content\n",
    "\n",
    "## Dataset\n",
    "\n",
    "This project utilizes a dataset containing **10,000 tweets** that have been manually classified by human annotators. Each tweet has been labeled as either reporting a real disaster or not, providing the ground truth needed to train and evaluate our classification model.\n",
    "\n",
    "---\n",
    "\n",
    "## Approach\n",
    "\n",
    "We'll explore various natural language processing (NLP) techniques and machine learning algorithms to tackle this text classification problem, including:\n",
    "- Text preprocessing and feature extraction\n",
    "- Deep learning methods (comparison of 2 RNN architectures)\n",
    "- Model evaluation and performance optimization\n"
   ]
  },
  {
   "cell_type": "code",
   "execution_count": 1,
   "id": "e6f9172c",
   "metadata": {
    "execution": {
     "iopub.execute_input": "2025-06-21T15:05:35.464332Z",
     "iopub.status.busy": "2025-06-21T15:05:35.464001Z",
     "iopub.status.idle": "2025-06-21T15:06:45.946216Z",
     "shell.execute_reply": "2025-06-21T15:06:45.945447Z"
    },
    "papermill": {
     "duration": 70.491739,
     "end_time": "2025-06-21T15:06:45.947930",
     "exception": false,
     "start_time": "2025-06-21T15:05:35.456191",
     "status": "completed"
    },
    "tags": []
   },
   "outputs": [
    {
     "name": "stderr",
     "output_type": "stream",
     "text": [
      "2025-06-21 15:06:29.618244: E external/local_xla/xla/stream_executor/cuda/cuda_fft.cc:477] Unable to register cuFFT factory: Attempting to register factory for plugin cuFFT when one has already been registered\n",
      "WARNING: All log messages before absl::InitializeLog() is called are written to STDERR\n",
      "E0000 00:00:1750518389.893964      13 cuda_dnn.cc:8310] Unable to register cuDNN factory: Attempting to register factory for plugin cuDNN when one has already been registered\n",
      "E0000 00:00:1750518389.965717      13 cuda_blas.cc:1418] Unable to register cuBLAS factory: Attempting to register factory for plugin cuBLAS when one has already been registered\n",
      "[nltk_data] Downloading package stopwords to /usr/share/nltk_data...\n",
      "[nltk_data]   Package stopwords is already up-to-date!\n",
      "[nltk_data] Downloading package wordnet to /usr/share/nltk_data...\n",
      "[nltk_data]   Package wordnet is already up-to-date!\n"
     ]
    }
   ],
   "source": [
    "# Import useful libraries\n",
    "\n",
    "import os\n",
    "import pandas as pd\n",
    "import matplotlib.pyplot as plt\n",
    "import numpy as np\n",
    "import pickle\n",
    "\n",
    "import nltk\n",
    "from nltk.tokenize import word_tokenize\n",
    "from nltk.corpus import stopwords\n",
    "import string\n",
    "from gensim.models import Word2Vec\n",
    "\n",
    "import tensorflow as tf\n",
    "from tensorflow.keras.models import Sequential\n",
    "from tensorflow.keras.layers import LSTM, Dense, Embedding, Bidirectional\n",
    "from tensorflow.keras.preprocessing.text import Tokenizer\n",
    "from tensorflow.keras.preprocessing.sequence import pad_sequences\n",
    "from tensorflow.keras.callbacks import EarlyStopping\n",
    "from sklearn.model_selection import train_test_split\n",
    "\n",
    "from keras.models import Sequential\n",
    "from keras.layers import Embedding, SimpleRNN, Dense\n",
    "from keras.callbacks import EarlyStopping\n",
    "from tensorflow.keras.utils import plot_model\n",
    "from tensorflow.keras.regularizers import l2\n",
    "\n",
    "from collections import Counter\n",
    "import re\n",
    "\n",
    "from nltk.corpus import stopwords\n",
    "from nltk.stem import WordNetLemmatizer\n",
    "nltk.download('stopwords')\n",
    "nltk.download('wordnet')\n",
    "\n",
    "import seaborn as sns\n",
    "import random\n",
    "from tensorflow.keras.optimizers import Adam\n",
    "from tensorflow.keras.optimizers import RMSprop\n",
    "\n",
    "# Set seeds\n",
    "random.seed(42)\n",
    "np.random.seed(42)\n",
    "tf.random.set_seed(42)\n",
    "\n",
    "import warnings\n",
    "warnings.filterwarnings('ignore')"
   ]
  },
  {
   "cell_type": "markdown",
   "id": "ad54bb7b",
   "metadata": {
    "papermill": {
     "duration": 0.006674,
     "end_time": "2025-06-21T15:06:45.961781",
     "exception": false,
     "start_time": "2025-06-21T15:06:45.955107",
     "status": "completed"
    },
    "tags": []
   },
   "source": [
    "# Exploratory Data Analysis (EDA)\n",
    "\n",
    "Before building our model, we need to understand and prepare our disaster tweet dataset.\n",
    "\n",
    "## Objectives\n",
    "\n",
    "### Data Analysis\n",
    "- Examine dataset structure and class distribution\n",
    "- Identify missing data and quality issues\n",
    "- Analyze tweet characteristics and patterns\n",
    "\n",
    "### Text Preprocessing\n",
    "- Clean text (remove URLs, mentions, special characters)\n",
    "- Tokenize and normalize text\n",
    "- Remove stop words and apply lemmatization\n",
    "- Handle Twitter-specific elements\n",
    "\n",
    "### Model Preparation\n",
    "- Prepare sequences for neural network input\n",
    "- Build vocabulary and vectorize text\n",
    "- Create train-validation splits"
   ]
  },
  {
   "cell_type": "code",
   "execution_count": 2,
   "id": "bf70929c",
   "metadata": {
    "execution": {
     "iopub.execute_input": "2025-06-21T15:06:45.977132Z",
     "iopub.status.busy": "2025-06-21T15:06:45.976241Z",
     "iopub.status.idle": "2025-06-21T15:06:46.052941Z",
     "shell.execute_reply": "2025-06-21T15:06:46.052148Z"
    },
    "papermill": {
     "duration": 0.085974,
     "end_time": "2025-06-21T15:06:46.054500",
     "exception": false,
     "start_time": "2025-06-21T15:06:45.968526",
     "status": "completed"
    },
    "tags": []
   },
   "outputs": [],
   "source": [
    "# Loading data\n",
    "df_train = pd.read_csv('/kaggle/input/nlp-getting-started/train.csv')\n",
    "df_test  = pd.read_csv('/kaggle/input/nlp-getting-started/test.csv')"
   ]
  },
  {
   "cell_type": "code",
   "execution_count": 3,
   "id": "5063af15",
   "metadata": {
    "execution": {
     "iopub.execute_input": "2025-06-21T15:06:46.070125Z",
     "iopub.status.busy": "2025-06-21T15:06:46.069842Z",
     "iopub.status.idle": "2025-06-21T15:06:46.096738Z",
     "shell.execute_reply": "2025-06-21T15:06:46.095787Z"
    },
    "papermill": {
     "duration": 0.036093,
     "end_time": "2025-06-21T15:06:46.098327",
     "exception": false,
     "start_time": "2025-06-21T15:06:46.062234",
     "status": "completed"
    },
    "tags": []
   },
   "outputs": [
    {
     "data": {
      "text/html": [
       "<div>\n",
       "<style scoped>\n",
       "    .dataframe tbody tr th:only-of-type {\n",
       "        vertical-align: middle;\n",
       "    }\n",
       "\n",
       "    .dataframe tbody tr th {\n",
       "        vertical-align: top;\n",
       "    }\n",
       "\n",
       "    .dataframe thead th {\n",
       "        text-align: right;\n",
       "    }\n",
       "</style>\n",
       "<table border=\"1\" class=\"dataframe\">\n",
       "  <thead>\n",
       "    <tr style=\"text-align: right;\">\n",
       "      <th></th>\n",
       "      <th>id</th>\n",
       "      <th>keyword</th>\n",
       "      <th>location</th>\n",
       "      <th>text</th>\n",
       "      <th>target</th>\n",
       "    </tr>\n",
       "  </thead>\n",
       "  <tbody>\n",
       "    <tr>\n",
       "      <th>0</th>\n",
       "      <td>1</td>\n",
       "      <td>NaN</td>\n",
       "      <td>NaN</td>\n",
       "      <td>Our Deeds are the Reason of this #earthquake M...</td>\n",
       "      <td>1</td>\n",
       "    </tr>\n",
       "    <tr>\n",
       "      <th>1</th>\n",
       "      <td>4</td>\n",
       "      <td>NaN</td>\n",
       "      <td>NaN</td>\n",
       "      <td>Forest fire near La Ronge Sask. Canada</td>\n",
       "      <td>1</td>\n",
       "    </tr>\n",
       "    <tr>\n",
       "      <th>2</th>\n",
       "      <td>5</td>\n",
       "      <td>NaN</td>\n",
       "      <td>NaN</td>\n",
       "      <td>All residents asked to 'shelter in place' are ...</td>\n",
       "      <td>1</td>\n",
       "    </tr>\n",
       "    <tr>\n",
       "      <th>3</th>\n",
       "      <td>6</td>\n",
       "      <td>NaN</td>\n",
       "      <td>NaN</td>\n",
       "      <td>13,000 people receive #wildfires evacuation or...</td>\n",
       "      <td>1</td>\n",
       "    </tr>\n",
       "    <tr>\n",
       "      <th>4</th>\n",
       "      <td>7</td>\n",
       "      <td>NaN</td>\n",
       "      <td>NaN</td>\n",
       "      <td>Just got sent this photo from Ruby #Alaska as ...</td>\n",
       "      <td>1</td>\n",
       "    </tr>\n",
       "  </tbody>\n",
       "</table>\n",
       "</div>"
      ],
      "text/plain": [
       "   id keyword location                                               text  \\\n",
       "0   1     NaN      NaN  Our Deeds are the Reason of this #earthquake M...   \n",
       "1   4     NaN      NaN             Forest fire near La Ronge Sask. Canada   \n",
       "2   5     NaN      NaN  All residents asked to 'shelter in place' are ...   \n",
       "3   6     NaN      NaN  13,000 people receive #wildfires evacuation or...   \n",
       "4   7     NaN      NaN  Just got sent this photo from Ruby #Alaska as ...   \n",
       "\n",
       "   target  \n",
       "0       1  \n",
       "1       1  \n",
       "2       1  \n",
       "3       1  \n",
       "4       1  "
      ]
     },
     "execution_count": 3,
     "metadata": {},
     "output_type": "execute_result"
    }
   ],
   "source": [
    "# Check data loaded and review\n",
    "df_train.head()"
   ]
  },
  {
   "cell_type": "code",
   "execution_count": 4,
   "id": "17997ff6",
   "metadata": {
    "execution": {
     "iopub.execute_input": "2025-06-21T15:06:46.114587Z",
     "iopub.status.busy": "2025-06-21T15:06:46.114224Z",
     "iopub.status.idle": "2025-06-21T15:06:46.118192Z",
     "shell.execute_reply": "2025-06-21T15:06:46.117447Z"
    },
    "papermill": {
     "duration": 0.013891,
     "end_time": "2025-06-21T15:06:46.119655",
     "exception": false,
     "start_time": "2025-06-21T15:06:46.105764",
     "status": "completed"
    },
    "tags": []
   },
   "outputs": [],
   "source": [
    "# Create reference for EDA functions\n",
    "tweets = df_train"
   ]
  },
  {
   "cell_type": "code",
   "execution_count": 5,
   "id": "adfb6e9c",
   "metadata": {
    "execution": {
     "iopub.execute_input": "2025-06-21T15:06:46.135203Z",
     "iopub.status.busy": "2025-06-21T15:06:46.134879Z",
     "iopub.status.idle": "2025-06-21T15:06:46.143808Z",
     "shell.execute_reply": "2025-06-21T15:06:46.142829Z"
    },
    "papermill": {
     "duration": 0.018575,
     "end_time": "2025-06-21T15:06:46.145362",
     "exception": false,
     "start_time": "2025-06-21T15:06:46.126787",
     "status": "completed"
    },
    "tags": []
   },
   "outputs": [
    {
     "name": "stdout",
     "output_type": "stream",
     "text": [
      "Dataset Shape: (7613, 5)\n",
      "\n",
      "Column Names: ['id', 'keyword', 'location', 'text', 'target']\n",
      "\n",
      "Data Types:\n",
      "id           int64\n",
      "keyword     object\n",
      "location    object\n",
      "text        object\n",
      "target       int64\n",
      "dtype: object\n",
      "\n",
      "Missing Values:\n",
      "id             0\n",
      "keyword       61\n",
      "location    2533\n",
      "text           0\n",
      "target         0\n",
      "dtype: int64\n"
     ]
    }
   ],
   "source": [
    "# Basic dataset information\n",
    "print(\"Dataset Shape:\", tweets.shape)\n",
    "print(\"\\nColumn Names:\", tweets.columns.tolist())\n",
    "print(\"\\nData Types:\")\n",
    "print(tweets.dtypes)\n",
    "print(\"\\nMissing Values:\")\n",
    "print(tweets.isnull().sum())"
   ]
  },
  {
   "cell_type": "code",
   "execution_count": 6,
   "id": "b77bb0d7",
   "metadata": {
    "execution": {
     "iopub.execute_input": "2025-06-21T15:06:46.162253Z",
     "iopub.status.busy": "2025-06-21T15:06:46.161931Z",
     "iopub.status.idle": "2025-06-21T15:06:46.355251Z",
     "shell.execute_reply": "2025-06-21T15:06:46.354209Z"
    },
    "papermill": {
     "duration": 0.204118,
     "end_time": "2025-06-21T15:06:46.356865",
     "exception": false,
     "start_time": "2025-06-21T15:06:46.152747",
     "status": "completed"
    },
    "tags": []
   },
   "outputs": [
    {
     "data": {
      "image/png": "[encoded data removed]",
      "text/plain": [
       "<Figure size 500x500 with 1 Axes>"
      ]
     },
     "metadata": {},
     "output_type": "display_data"
    }
   ],
   "source": [
    "# Distribution of tweets\n",
    "counts = df_train['target'].value_counts()\n",
    "counts.index = ['Disaster' if i == 1 else 'Normal' for i in counts.index]\n",
    "\n",
    "# Creating a pie chart\n",
    "plt.figure(figsize=(5, 5))\n",
    "plt.pie(counts, labels=counts.index, autopct='%1.1f%%', startangle=90)\n",
    "plt.title('Distribution of Tweets')\n",
    "plt.axis('equal')\n",
    "plt.show()"
   ]
  },
  {
   "cell_type": "code",
   "execution_count": 7,
   "id": "2f5f0909",
   "metadata": {
    "execution": {
     "iopub.execute_input": "2025-06-21T15:06:46.375020Z",
     "iopub.status.busy": "2025-06-21T15:06:46.374673Z",
     "iopub.status.idle": "2025-06-21T15:06:46.388978Z",
     "shell.execute_reply": "2025-06-21T15:06:46.387864Z"
    },
    "papermill": {
     "duration": 0.025156,
     "end_time": "2025-06-21T15:06:46.390654",
     "exception": false,
     "start_time": "2025-06-21T15:06:46.365498",
     "status": "completed"
    },
    "tags": []
   },
   "outputs": [
    {
     "name": "stdout",
     "output_type": "stream",
     "text": [
      "\n",
      "=== SAMPLE DISASTER TWEETS ===\n",
      "1. Our Deeds are the Reason of this #earthquake May ALLAH Forgive us all\n",
      "\n",
      "2. Forest fire near La Ronge Sask. Canada\n",
      "\n",
      "3. All residents asked to 'shelter in place' are being notified by officers. No other evacuation or shelter in place orders are expected\n",
      "\n",
      "4. 13,000 people receive #wildfires evacuation orders in California \n",
      "\n",
      "5. Just got sent this photo from Ruby #Alaska as smoke from #wildfires pours into a school \n",
      "\n",
      "=== SAMPLE NON-DISASTER TWEETS ===\n",
      "1. What's up man?\n",
      "\n",
      "2. I love fruits\n",
      "\n",
      "3. Summer is lovely\n",
      "\n",
      "4. My car is so fast\n",
      "\n",
      "5. What a goooooooaaaaaal!!!!!!\n",
      "\n"
     ]
    }
   ],
   "source": [
    "# Display sample tweets from each class\n",
    "print(\"\\n=== SAMPLE DISASTER TWEETS ===\")\n",
    "disaster_tweets = tweets[tweets['target'] == 1]['text'].head(5)\n",
    "for i, tweet in enumerate(disaster_tweets, 1):\n",
    "    print(f\"{i}. {tweet}\\n\")\n",
    "\n",
    "print(\"=== SAMPLE NON-DISASTER TWEETS ===\")\n",
    "normal_tweets = tweets[tweets['target'] == 0]['text'].head(5)\n",
    "for i, tweet in enumerate(normal_tweets, 1):\n",
    "    print(f\"{i}. {tweet}\\n\")"
   ]
  },
  {
   "cell_type": "code",
   "execution_count": 8,
   "id": "2dd39dd6",
   "metadata": {
    "execution": {
     "iopub.execute_input": "2025-06-21T15:06:46.407183Z",
     "iopub.status.busy": "2025-06-21T15:06:46.406825Z",
     "iopub.status.idle": "2025-06-21T15:06:46.650177Z",
     "shell.execute_reply": "2025-06-21T15:06:46.649180Z"
    },
    "papermill": {
     "duration": 0.253483,
     "end_time": "2025-06-21T15:06:46.651710",
     "exception": false,
     "start_time": "2025-06-21T15:06:46.398227",
     "status": "completed"
    },
    "tags": []
   },
   "outputs": [
    {
     "data": {
      "image/png": "[encoded data removed]",
      "text/plain": [
       "<Figure size 1000x600 with 1 Axes>"
      ]
     },
     "metadata": {},
     "output_type": "display_data"
    }
   ],
   "source": [
    "# Basic histogram to review tweet lengths\n",
    "tweets['tweet_length'] = tweets['text'].apply(len)\n",
    "plt.figure(figsize=(10, 6))\n",
    "sns.histplot(tweets['tweet_length'], bins=30, kde=False)\n",
    "plt.title('Distribution of Tweet Lengths')\n",
    "plt.xlabel('Tweet Length')\n",
    "plt.ylabel('Frequency')\n",
    "plt.show()"
   ]
  },
  {
   "cell_type": "code",
   "execution_count": 9,
   "id": "9517b880",
   "metadata": {
    "execution": {
     "iopub.execute_input": "2025-06-21T15:06:46.670159Z",
     "iopub.status.busy": "2025-06-21T15:06:46.669868Z",
     "iopub.status.idle": "2025-06-21T15:06:47.060045Z",
     "shell.execute_reply": "2025-06-21T15:06:47.059048Z"
    },
    "papermill": {
     "duration": 0.401009,
     "end_time": "2025-06-21T15:06:47.061608",
     "exception": false,
     "start_time": "2025-06-21T15:06:46.660599",
     "status": "completed"
    },
    "tags": []
   },
   "outputs": [
    {
     "data": {
      "image/png": "[encoded data removed]",
      "text/plain": [
       "<Figure size 1200x500 with 2 Axes>"
      ]
     },
     "metadata": {},
     "output_type": "display_data"
    },
    {
     "name": "stdout",
     "output_type": "stream",
     "text": [
      "Character Length Statistics by Class:\n",
      "         count        mean        std   min   25%    50%    75%    max\n",
      "target                                                                \n",
      "0       4342.0   95.706817  35.885924   7.0  68.0  101.0  130.0  157.0\n",
      "1       3271.0  108.113421  29.309854  14.0  88.0  115.0  136.0  151.0\n",
      "\n",
      "Word Count Statistics by Class:\n",
      "         count       mean       std  min   25%   50%   75%   max\n",
      "target                                                          \n",
      "0       4342.0  14.704744  6.161564  1.0  10.0  15.0  19.0  31.0\n",
      "1       3271.0  15.167533  5.096806  2.0  11.0  15.0  19.0  30.0\n"
     ]
    }
   ],
   "source": [
    "# Word count analysis\n",
    "tweets['word_count'] = tweets['text'].apply(lambda x: len(x.split()))\n",
    "\n",
    "# Compare tweet lengths between classes\n",
    "plt.figure(figsize=(12, 5))\n",
    "\n",
    "plt.subplot(1, 2, 1)\n",
    "sns.boxplot(data=tweets, x='target', y='tweet_length')\n",
    "plt.title('Tweet Length by Class')\n",
    "plt.xlabel('Class (0: Normal, 1: Disaster)')\n",
    "plt.ylabel('Character Count')\n",
    "\n",
    "plt.subplot(1, 2, 2)\n",
    "sns.boxplot(data=tweets, x='target', y='word_count')\n",
    "plt.title('Word Count by Class')\n",
    "plt.xlabel('Class (0: Normal, 1: Disaster)')\n",
    "plt.ylabel('Word Count')\n",
    "\n",
    "plt.tight_layout()\n",
    "plt.show()\n",
    "\n",
    "# Statistical summary by class\n",
    "print(\"Character Length Statistics by Class:\")\n",
    "print(tweets.groupby('target')['tweet_length'].describe())\n",
    "print(\"\\nWord Count Statistics by Class:\")\n",
    "print(tweets.groupby('target')['word_count'].describe())"
   ]
  },
  {
   "cell_type": "code",
   "execution_count": 10,
   "id": "ef619806",
   "metadata": {
    "execution": {
     "iopub.execute_input": "2025-06-21T15:06:47.080720Z",
     "iopub.status.busy": "2025-06-21T15:06:47.080370Z",
     "iopub.status.idle": "2025-06-21T15:06:47.734966Z",
     "shell.execute_reply": "2025-06-21T15:06:47.734014Z"
    },
    "papermill": {
     "duration": 0.665955,
     "end_time": "2025-06-21T15:06:47.736431",
     "exception": false,
     "start_time": "2025-06-21T15:06:47.070476",
     "status": "completed"
    },
    "tags": []
   },
   "outputs": [
    {
     "data": {
      "image/png": "[encoded data removed]",
      "text/plain": [
       "<Figure size 1500x400 with 3 Axes>"
      ]
     },
     "metadata": {},
     "output_type": "display_data"
    }
   ],
   "source": [
    "# Check for URLs, mentions, and hashtags\n",
    "tweets['has_url'] = tweets['text'].str.contains('http', case=False, na=False)\n",
    "tweets['has_mention'] = tweets['text'].str.contains('@', na=False)\n",
    "tweets['has_hashtag'] = tweets['text'].str.contains('#', na=False)\n",
    "\n",
    "# Analyze special elements by class\n",
    "special_elements = ['has_url', 'has_mention', 'has_hashtag']\n",
    "fig, axes = plt.subplots(1, 3, figsize=(15, 4))\n",
    "\n",
    "for i, element in enumerate(special_elements):\n",
    "    element_counts = tweets.groupby(['target', element]).size().unstack(fill_value=0)\n",
    "    element_percentages = element_counts.div(element_counts.sum(axis=1), axis=0) * 100\n",
    "    \n",
    "    element_percentages.plot(kind='bar', ax=axes[i], stacked=True)\n",
    "    axes[i].set_title(f'{element.replace(\"has_\", \"\").title()} Distribution by Class')\n",
    "    axes[i].set_xlabel('Class (0: Normal, 1: Disaster)')\n",
    "    axes[i].set_ylabel('Percentage')\n",
    "    axes[i].legend(['No', 'Yes'])\n",
    "    axes[i].tick_params(axis='x', rotation=0)\n",
    "\n",
    "plt.tight_layout()\n",
    "plt.show()"
   ]
  },
  {
   "cell_type": "markdown",
   "id": "f7931b99",
   "metadata": {
    "papermill": {
     "duration": 0.009076,
     "end_time": "2025-06-21T15:06:47.755102",
     "exception": false,
     "start_time": "2025-06-21T15:06:47.746026",
     "status": "completed"
    },
    "tags": []
   },
   "source": [
    "# EDA CONCLUSIONS"
   ]
  },
  {
   "cell_type": "markdown",
   "id": "ebb115d1",
   "metadata": {
    "papermill": {
     "duration": 0.008903,
     "end_time": "2025-06-21T15:06:47.773177",
     "exception": false,
     "start_time": "2025-06-21T15:06:47.764274",
     "status": "completed"
    },
    "tags": []
   },
   "source": [
    "# Text Preprocessing and Sequence Preparation\n",
    "\n",
    "This section will clean and prepare our tweet data for model training through the following steps:\n",
    "\n",
    "## Preprocessing Steps\n",
    "\n",
    "- Convert all tweets to lowercase\n",
    "- Remove special characters and punctuation\n",
    "- Remove stop words\n",
    "- Lemmatize words to their dictionary form\n",
    "- Handle URLs and user mentions\n",
    "\n",
    "## Sequence Analysis\n",
    "\n",
    "- Analyze word count distribution in preprocessed tweets\n",
    "- Determine optimal sequence length for RNN model padding\n",
    "- Assess vocabulary size for model architecture"
   ]
  },
  {
   "cell_type": "code",
   "execution_count": 11,
   "id": "6c28d04d",
   "metadata": {
    "execution": {
     "iopub.execute_input": "2025-06-21T15:06:47.792746Z",
     "iopub.status.busy": "2025-06-21T15:06:47.792401Z",
     "iopub.status.idle": "2025-06-21T15:06:51.656461Z",
     "shell.execute_reply": "2025-06-21T15:06:51.655394Z"
    },
    "papermill": {
     "duration": 3.875904,
     "end_time": "2025-06-21T15:06:51.658242",
     "exception": false,
     "start_time": "2025-06-21T15:06:47.782338",
     "status": "completed"
    },
    "tags": []
   },
   "outputs": [],
   "source": [
    "# Initialize lemmatizer and stopwords list\n",
    "lemmatizer = WordNetLemmatizer()\n",
    "stop_words = set(stopwords.words('english'))\n",
    "\n",
    "def clean_text(text):\n",
    "    text = text.lower()  # Convert to lowercase\n",
    "    text = re.sub(r'\\W', ' ', text)  # Remove all the special characters\n",
    "    text = re.sub(r'\\s+', ' ', text, flags=re.I)  # Replace multiple spaces with a single space\n",
    "    # Lemmatization and stopword removal\n",
    "    text = ' '.join([lemmatizer.lemmatize(word) for word in text.split() if word not in stop_words])\n",
    "    return text\n",
    "\n",
    "# Apply cleaning function\n",
    "df_train['cleaned_text'] = df_train['text'].apply(clean_text)"
   ]
  },
  {
   "cell_type": "code",
   "execution_count": 12,
   "id": "5a4c9104",
   "metadata": {
    "execution": {
     "iopub.execute_input": "2025-06-21T15:06:51.680218Z",
     "iopub.status.busy": "2025-06-21T15:06:51.679872Z",
     "iopub.status.idle": "2025-06-21T15:06:51.901873Z",
     "shell.execute_reply": "2025-06-21T15:06:51.900904Z"
    },
    "papermill": {
     "duration": 0.235575,
     "end_time": "2025-06-21T15:06:51.903564",
     "exception": false,
     "start_time": "2025-06-21T15:06:51.667989",
     "status": "completed"
    },
    "tags": []
   },
   "outputs": [],
   "source": [
    "# Split data\n",
    "X_train, X_valid, y_train, y_valid = train_test_split(df_train['cleaned_text'], df_train['target'], test_size=0.2, random_state=42)\n",
    "\n",
    "# Tokenizing text\n",
    "tokenizer = Tokenizer(num_words=10000)\n",
    "tokenizer.fit_on_texts(X_train)\n",
    "X_train = tokenizer.texts_to_sequences(X_train)\n",
    "X_valid = tokenizer.texts_to_sequences(X_valid)"
   ]
  },
  {
   "cell_type": "code",
   "execution_count": 13,
   "id": "73a63f42",
   "metadata": {
    "execution": {
     "iopub.execute_input": "2025-06-21T15:06:51.923752Z",
     "iopub.status.busy": "2025-06-21T15:06:51.923405Z",
     "iopub.status.idle": "2025-06-21T15:06:52.237656Z",
     "shell.execute_reply": "2025-06-21T15:06:52.236666Z"
    },
    "papermill": {
     "duration": 0.326081,
     "end_time": "2025-06-21T15:06:52.239156",
     "exception": false,
     "start_time": "2025-06-21T15:06:51.913075",
     "status": "completed"
    },
    "tags": []
   },
   "outputs": [
    {
     "data": {
      "image/png": "[encoded data removed]",
      "text/plain": [
       "<Figure size 640x480 with 1 Axes>"
      ]
     },
     "metadata": {},
     "output_type": "display_data"
    },
    {
     "name": "stdout",
     "output_type": "stream",
     "text": [
      "90th percentile: 15.0\n"
     ]
    }
   ],
   "source": [
    "# Analyzing the distribution of text lengths in terms of word count\n",
    "sequence_lengths = [len(seq) for seq in tokenizer.texts_to_sequences(df_train['cleaned_text'])]\n",
    "\n",
    "# Plotting the distribution\n",
    "plt.hist(sequence_lengths, bins=30)\n",
    "plt.title('Distribution of Sequence Lengths')\n",
    "plt.xlabel('Sequence Length')\n",
    "plt.ylabel('Frequency')\n",
    "plt.show()\n",
    "\n",
    "# Determining a suitable `maxlen` based on percentile\n",
    "import numpy as np\n",
    "print(\"90th percentile:\", np.percentile(sequence_lengths, 90))"
   ]
  },
  {
   "cell_type": "code",
   "execution_count": 14,
   "id": "1fb7a925",
   "metadata": {
    "execution": {
     "iopub.execute_input": "2025-06-21T15:06:52.260388Z",
     "iopub.status.busy": "2025-06-21T15:06:52.260026Z",
     "iopub.status.idle": "2025-06-21T15:06:52.289665Z",
     "shell.execute_reply": "2025-06-21T15:06:52.288296Z"
    },
    "papermill": {
     "duration": 0.042374,
     "end_time": "2025-06-21T15:06:52.291475",
     "exception": false,
     "start_time": "2025-06-21T15:06:52.249101",
     "status": "completed"
    },
    "tags": []
   },
   "outputs": [],
   "source": [
    "# Padding sequences\n",
    "X_train = pad_sequences(X_train, maxlen=15)\n",
    "X_valid = pad_sequences(X_valid, maxlen=15)"
   ]
  },
  {
   "cell_type": "markdown",
   "id": "4c888f1a",
   "metadata": {
    "papermill": {
     "duration": 0.011005,
     "end_time": "2025-06-21T15:06:52.313355",
     "exception": false,
     "start_time": "2025-06-21T15:06:52.302350",
     "status": "completed"
    },
    "tags": []
   },
   "source": [
    "# EDA - conclusion\n",
    "\n",
    "EDA reveals several key findings:\n",
    "\n",
    "## Dataset Characteristics\n",
    "- **Class distribution**: The dataset is reasonably balanced with 43% disaster tweets and 57% non-disaster tweets\n",
    "- **Tweet lengths**: Many tweets are exactly 140 characters (the former Twitter limit), though considerable variation exists\n",
    "- **Word counts**: After preprocessing, most tweets contain 9-11 words\n",
    "- **Sequence length**: 90% of tweets have 15 words or fewer\n",
    "\n",
    "## Model Implications\n",
    "Based on these findings, we will:\n",
    "- Set the maximum sequence length to **15 words** for our models\n",
    "- Use this length for padding shorter sequences\n",
    "- Proceed with confidence that the data is well-suited for Recurrent Neural Network analysis\n",
    "\n",
    "The balanced dataset and consistent sequence lengths provide a solid foundation for building an effective disaster tweet classification model."
   ]
  },
  {
   "cell_type": "markdown",
   "id": "b9c35668",
   "metadata": {
    "papermill": {
     "duration": 0.009447,
     "end_time": "2025-06-21T15:06:52.333470",
     "exception": false,
     "start_time": "2025-06-21T15:06:52.324023",
     "status": "completed"
    },
    "tags": []
   },
   "source": [
    "# Model Architecture\n",
    "\n",
    "In this section, we will evaluate two different RNN architectures to understand how model complexity affects prediction accuracy:\n",
    "\n",
    "## Model Variants\n",
    "\n",
    "### **Basic RNN Architecture**\n",
    "A simple RNN model that serves as our baseline. This straightforward architecture will help us establish fundamental performance metrics.\n",
    "\n",
    "### **Deep (Stacked) RNN Architecture** \n",
    "A more sophisticated model with multiple layers, including additional LSTM and dense layers. This architecture should capture more complex patterns and relationships in the text data.\n",
    "\n",
    "## Approach\n",
    "\n",
    "The goal is to determine whether increased model complexity translates to improved classification accuracy. By comparing a simple baseline model against a deeper architecture, we can assess:\n",
    "\n",
    "- The benefits of additional model layers\n",
    "- Whether the complexity is justified by performance gains\n",
    "- The optimal balance between model sophistication and training efficiency\n",
    "\n",
    "## Focus\n",
    "\n",
    "This section will concentrate exclusively on architectural design. We will not explore different optimizers or regularization techniques here - those optimizations will be addressed in the next section after selecting our preferred architecture."
   ]
  },
  {
   "cell_type": "code",
   "execution_count": 15,
   "id": "afedcdbf",
   "metadata": {
    "execution": {
     "iopub.execute_input": "2025-06-21T15:06:52.354166Z",
     "iopub.status.busy": "2025-06-21T15:06:52.353838Z",
     "iopub.status.idle": "2025-06-21T15:06:52.358864Z",
     "shell.execute_reply": "2025-06-21T15:06:52.357598Z"
    },
    "papermill": {
     "duration": 0.017515,
     "end_time": "2025-06-21T15:06:52.360605",
     "exception": false,
     "start_time": "2025-06-21T15:06:52.343090",
     "status": "completed"
    },
    "tags": []
   },
   "outputs": [],
   "source": [
    "# Constants\n",
    "max_words = 10000  # number of words to consider from the dataset\n",
    "max_len   = 15  # sequences are padded/truncated to this length"
   ]
  },
  {
   "cell_type": "markdown",
   "id": "6f8fcf5b",
   "metadata": {
    "papermill": {
     "duration": 0.009582,
     "end_time": "2025-06-21T15:06:52.379975",
     "exception": false,
     "start_time": "2025-06-21T15:06:52.370393",
     "status": "completed"
    },
    "tags": []
   },
   "source": [
    "### Model comparison functions:"
   ]
  },
  {
   "cell_type": "code",
   "execution_count": 16,
   "id": "9dc2a48d",
   "metadata": {
    "execution": {
     "iopub.execute_input": "2025-06-21T15:06:52.467988Z",
     "iopub.status.busy": "2025-06-21T15:06:52.467409Z",
     "iopub.status.idle": "2025-06-21T15:06:52.473971Z",
     "shell.execute_reply": "2025-06-21T15:06:52.472970Z"
    },
    "papermill": {
     "duration": 0.018982,
     "end_time": "2025-06-21T15:06:52.475461",
     "exception": false,
     "start_time": "2025-06-21T15:06:52.456479",
     "status": "completed"
    },
    "tags": []
   },
   "outputs": [],
   "source": [
    "def plot_training_history(history):\n",
    "    # Get number of epochs\n",
    "    epochs = range(1, len(history.history['accuracy']) + 1)\n",
    "\n",
    "    # Plot training & validation accuracy values\n",
    "    plt.plot(epochs, history.history['accuracy'])\n",
    "    plt.plot(epochs, history.history['val_accuracy'])\n",
    "    plt.title('Model accuracy')\n",
    "    plt.ylabel('Accuracy')\n",
    "    plt.xlabel('Epoch')\n",
    "    plt.xticks(epochs)  # Set x-ticks to be the epochs\n",
    "    plt.legend(['Train', 'Validation'], loc='upper left')\n",
    "    plt.show()\n",
    "\n",
    "    # Plot training & validation loss values\n",
    "    plt.plot(epochs, history.history['loss'])\n",
    "    plt.plot(epochs, history.history['val_loss'])\n",
    "    plt.title('Model loss')\n",
    "    plt.ylabel('Loss')\n",
    "    plt.xlabel('Epoch')\n",
    "    plt.xticks(epochs)  # Set x-ticks to be the epochs\n",
    "    plt.legend(['Train', 'Validation'], loc='upper left')\n",
    "    plt.show()"
   ]
  },
  {
   "cell_type": "code",
   "execution_count": 17,
   "id": "44e3e2a3",
   "metadata": {
    "execution": {
     "iopub.execute_input": "2025-06-21T15:06:52.496508Z",
     "iopub.status.busy": "2025-06-21T15:06:52.496163Z",
     "iopub.status.idle": "2025-06-21T15:06:52.501761Z",
     "shell.execute_reply": "2025-06-21T15:06:52.500943Z"
    },
    "papermill": {
     "duration": 0.017706,
     "end_time": "2025-06-21T15:06:52.503211",
     "exception": false,
     "start_time": "2025-06-21T15:06:52.485505",
     "status": "completed"
    },
    "tags": []
   },
   "outputs": [],
   "source": [
    "def get_best_epoch_stats(model_names, histories):\n",
    "    accuracies = []\n",
    "    losses = []\n",
    "    \n",
    "    for model_name, history in zip(model_names, histories):\n",
    "        # Get the index of the epoch with the highest validation accuracy\n",
    "        best_epoch_index = np.argmax(history.history['val_accuracy'])\n",
    "        \n",
    "        # Retrieve the accuracy and loss for the best epoch\n",
    "        best_epoch_accuracy = history.history['val_accuracy'][best_epoch_index]\n",
    "        best_epoch_loss = history.history['val_loss'][best_epoch_index]\n",
    "        \n",
    "        # Append the results to the respective lists\n",
    "        accuracies.append(best_epoch_accuracy)\n",
    "        losses.append(best_epoch_loss)\n",
    "    \n",
    "    return model_names, accuracies, losses"
   ]
  },
  {
   "cell_type": "code",
   "execution_count": 18,
   "id": "3b092790",
   "metadata": {
    "execution": {
     "iopub.execute_input": "2025-06-21T15:06:52.524223Z",
     "iopub.status.busy": "2025-06-21T15:06:52.523883Z",
     "iopub.status.idle": "2025-06-21T15:06:52.531365Z",
     "shell.execute_reply": "2025-06-21T15:06:52.530540Z"
    },
    "papermill": {
     "duration": 0.019611,
     "end_time": "2025-06-21T15:06:52.532764",
     "exception": false,
     "start_time": "2025-06-21T15:06:52.513153",
     "status": "completed"
    },
    "tags": []
   },
   "outputs": [],
   "source": [
    "def plot_model_metrics(architectures, accuracies, losses):\n",
    "    # Define colors\n",
    "    accuracy_color = '#5BC0BE'\n",
    "    loss_color = '#4C698D'\n",
    "\n",
    "    # Create subplots\n",
    "    fig, axs = plt.subplots(1, 2, figsize=(10, 4))\n",
    "\n",
    "    # Plot accuracy\n",
    "    axs[0].bar(architectures, accuracies, color=accuracy_color)\n",
    "    axs[0].set_title('Model Accuracy', fontsize=14)\n",
    "    axs[0].set_ylabel('Accuracy', fontsize=12)\n",
    "    axs[0].set_ylim([0, 1])\n",
    "\n",
    "    # Adding the text labels on the bars\n",
    "    for i in range(len(accuracies)):\n",
    "        axs[0].text(i, accuracies[i] + 0.02, f'{accuracies[i]:.3f}', ha='center', va='bottom', color='black')\n",
    "\n",
    "    # Plot loss\n",
    "    axs[1].bar(architectures, losses, color=loss_color)\n",
    "    axs[1].set_title('Model Loss', fontsize=14)\n",
    "    axs[1].set_ylabel('Loss', fontsize=12)\n",
    "    axs[1].set_ylim([0, max(losses)+0.1])\n",
    "\n",
    "    # Adding the text labels on the bars\n",
    "    for i in range(len(losses)):\n",
    "        axs[1].text(i, losses[i] + 0.02, f'{losses[i]:.2f}', ha='center', va='bottom', color='black')  # white text for better visibility on dark color\n",
    "\n",
    "    # Layout adjustments\n",
    "    plt.tight_layout()\n",
    "\n",
    "    # Display the plot\n",
    "    plt.show()"
   ]
  },
  {
   "cell_type": "markdown",
   "id": "ba3bbd25",
   "metadata": {
    "papermill": {
     "duration": 0.00962,
     "end_time": "2025-06-21T15:06:52.552217",
     "exception": false,
     "start_time": "2025-06-21T15:06:52.542597",
     "status": "completed"
    },
    "tags": []
   },
   "source": [
    "### Basic RNN Architecture:"
   ]
  },
  {
   "cell_type": "code",
   "execution_count": 19,
   "id": "dee0fa9c",
   "metadata": {
    "execution": {
     "iopub.execute_input": "2025-06-21T15:06:52.574479Z",
     "iopub.status.busy": "2025-06-21T15:06:52.574125Z",
     "iopub.status.idle": "2025-06-21T15:07:05.497038Z",
     "shell.execute_reply": "2025-06-21T15:07:05.495727Z"
    },
    "papermill": {
     "duration": 12.936461,
     "end_time": "2025-06-21T15:07:05.498797",
     "exception": false,
     "start_time": "2025-06-21T15:06:52.562336",
     "status": "completed"
    },
    "tags": []
   },
   "outputs": [
    {
     "name": "stderr",
     "output_type": "stream",
     "text": [
      "2025-06-21 15:06:52.583067: E external/local_xla/xla/stream_executor/cuda/cuda_driver.cc:152] failed call to cuInit: INTERNAL: CUDA error: Failed call to cuInit: UNKNOWN ERROR (303)\n"
     ]
    },
    {
     "name": "stdout",
     "output_type": "stream",
     "text": [
      "Epoch 1/20\n",
      "\u001b[1m48/48\u001b[0m \u001b[32m━━━━━━━━━━━━━━━━━━━━\u001b[0m\u001b[37m\u001b[0m \u001b[1m4s\u001b[0m 25ms/step - accuracy: 0.5343 - loss: 0.6872 - val_accuracy: 0.6146 - val_loss: 0.6489\n",
      "Epoch 2/20\n",
      "\u001b[1m48/48\u001b[0m \u001b[32m━━━━━━━━━━━━━━━━━━━━\u001b[0m\u001b[37m\u001b[0m \u001b[1m1s\u001b[0m 16ms/step - accuracy: 0.6546 - loss: 0.6338 - val_accuracy: 0.6527 - val_loss: 0.6220\n",
      "Epoch 3/20\n",
      "\u001b[1m48/48\u001b[0m \u001b[32m━━━━━━━━━━━━━━━━━━━━\u001b[0m\u001b[37m\u001b[0m \u001b[1m1s\u001b[0m 15ms/step - accuracy: 0.7154 - loss: 0.5922 - val_accuracy: 0.6980 - val_loss: 0.5924\n",
      "Epoch 4/20\n",
      "\u001b[1m48/48\u001b[0m \u001b[32m━━━━━━━━━━━━━━━━━━━━\u001b[0m\u001b[37m\u001b[0m \u001b[1m1s\u001b[0m 15ms/step - accuracy: 0.7817 - loss: 0.5217 - val_accuracy: 0.7525 - val_loss: 0.5187\n",
      "Epoch 5/20\n",
      "\u001b[1m48/48\u001b[0m \u001b[32m━━━━━━━━━━━━━━━━━━━━\u001b[0m\u001b[37m\u001b[0m \u001b[1m1s\u001b[0m 15ms/step - accuracy: 0.8343 - loss: 0.4112 - val_accuracy: 0.7735 - val_loss: 0.4879\n",
      "Epoch 6/20\n",
      "\u001b[1m48/48\u001b[0m \u001b[32m━━━━━━━━━━━━━━━━━━━━\u001b[0m\u001b[37m\u001b[0m \u001b[1m1s\u001b[0m 15ms/step - accuracy: 0.8748 - loss: 0.3344 - val_accuracy: 0.7787 - val_loss: 0.4843\n",
      "Epoch 7/20\n",
      "\u001b[1m48/48\u001b[0m \u001b[32m━━━━━━━━━━━━━━━━━━━━\u001b[0m\u001b[37m\u001b[0m \u001b[1m1s\u001b[0m 16ms/step - accuracy: 0.8954 - loss: 0.2830 - val_accuracy: 0.7800 - val_loss: 0.4890\n",
      "Epoch 8/20\n",
      "\u001b[1m48/48\u001b[0m \u001b[32m━━━━━━━━━━━━━━━━━━━━\u001b[0m\u001b[37m\u001b[0m \u001b[1m1s\u001b[0m 16ms/step - accuracy: 0.9125 - loss: 0.2416 - val_accuracy: 0.7827 - val_loss: 0.4935\n",
      "Epoch 9/20\n",
      "\u001b[1m48/48\u001b[0m \u001b[32m━━━━━━━━━━━━━━━━━━━━\u001b[0m\u001b[37m\u001b[0m \u001b[1m1s\u001b[0m 17ms/step - accuracy: 0.9255 - loss: 0.2073 - val_accuracy: 0.7827 - val_loss: 0.5011\n",
      "Epoch 10/20\n",
      "\u001b[1m48/48\u001b[0m \u001b[32m━━━━━━━━━━━━━━━━━━━━\u001b[0m\u001b[37m\u001b[0m \u001b[1m1s\u001b[0m 17ms/step - accuracy: 0.9385 - loss: 0.1784 - val_accuracy: 0.7840 - val_loss: 0.5118\n",
      "Epoch 11/20\n",
      "\u001b[1m48/48\u001b[0m \u001b[32m━━━━━━━━━━━━━━━━━━━━\u001b[0m\u001b[37m\u001b[0m \u001b[1m1s\u001b[0m 16ms/step - accuracy: 0.9466 - loss: 0.1549 - val_accuracy: 0.7768 - val_loss: 0.5288\n",
      "Epoch 11: early stopping\n",
      "Restoring model weights from the end of the best epoch: 6.\n",
      "\u001b[1m48/48\u001b[0m \u001b[32m━━━━━━━━━━━━━━━━━━━━\u001b[0m\u001b[37m\u001b[0m \u001b[1m0s\u001b[0m 3ms/step - accuracy: 0.7593 - loss: 0.5048\n",
      "\n",
      "Validation accuracy: 0.7787262201309204\n"
     ]
    }
   ],
   "source": [
    "# Define the model\n",
    "model_basic = Sequential([\n",
    "    Embedding(input_dim=max_words, output_dim=128, input_shape=(max_len,)), \n",
    "    SimpleRNN(64), \n",
    "    Dense(1, activation='sigmoid')\n",
    "])\n",
    "\n",
    "# Create a new Adam optimizer instance for this specific model\n",
    "custom_adam = Adam(learning_rate=0.0001)\n",
    "\n",
    "# Compile the model\n",
    "model_basic.compile(optimizer=custom_adam, loss='binary_crossentropy', metrics=['accuracy'])\n",
    "\n",
    "# Set up early stopping\n",
    "early_stop = EarlyStopping(monitor='val_loss', patience=5, restore_best_weights=True, verbose=True)\n",
    "\n",
    "# Train the model\n",
    "history_basic = model_basic.fit(X_train, y_train, validation_data=(X_valid, y_valid), epochs=20, batch_size=128, callbacks=[early_stop])\n",
    "\n",
    "# Evaluate the model on the validation set\n",
    "loss, accuracy = model_basic.evaluate(X_valid, y_valid)\n",
    "print()\n",
    "print(\"Validation accuracy:\", accuracy)"
   ]
  },
  {
   "cell_type": "code",
   "execution_count": 20,
   "id": "eb49be75",
   "metadata": {
    "execution": {
     "iopub.execute_input": "2025-06-21T15:07:05.537550Z",
     "iopub.status.busy": "2025-06-21T15:07:05.536546Z",
     "iopub.status.idle": "2025-06-21T15:07:05.939496Z",
     "shell.execute_reply": "2025-06-21T15:07:05.938607Z"
    },
    "papermill": {
     "duration": 0.423501,
     "end_time": "2025-06-21T15:07:05.941111",
     "exception": false,
     "start_time": "2025-06-21T15:07:05.517610",
     "status": "completed"
    },
    "tags": []
   },
   "outputs": [
    {
     "data": {
      "image/png": "[encoded data removed]",
      "text/plain": [
       "<Figure size 640x480 with 1 Axes>"
      ]
     },
     "metadata": {},
     "output_type": "display_data"
    },
    {
     "data": {
      "image/png": "[encoded data removed]",
      "text/plain": [
       "<Figure size 640x480 with 1 Axes>"
      ]
     },
     "metadata": {},
     "output_type": "display_data"
    }
   ],
   "source": [
    "plot_training_history(history_basic)"
   ]
  },
  {
   "cell_type": "markdown",
   "id": "bf1d0de6",
   "metadata": {
    "papermill": {
     "duration": 0.019609,
     "end_time": "2025-06-21T15:07:05.980458",
     "exception": false,
     "start_time": "2025-06-21T15:07:05.960849",
     "status": "completed"
    },
    "tags": []
   },
   "source": [
    "### Deep (Stacked) RNN Architecture:"
   ]
  },
  {
   "cell_type": "code",
   "execution_count": 21,
   "id": "5b46b3fc",
   "metadata": {
    "execution": {
     "iopub.execute_input": "2025-06-21T15:07:06.020324Z",
     "iopub.status.busy": "2025-06-21T15:07:06.020017Z",
     "iopub.status.idle": "2025-06-21T15:07:44.261197Z",
     "shell.execute_reply": "2025-06-21T15:07:44.260113Z"
    },
    "papermill": {
     "duration": 38.263571,
     "end_time": "2025-06-21T15:07:44.262774",
     "exception": false,
     "start_time": "2025-06-21T15:07:05.999203",
     "status": "completed"
    },
    "tags": []
   },
   "outputs": [
    {
     "name": "stdout",
     "output_type": "stream",
     "text": [
      "Epoch 1/20\n",
      "\u001b[1m48/48\u001b[0m \u001b[32m━━━━━━━━━━━━━━━━━━━━\u001b[0m\u001b[37m\u001b[0m \u001b[1m9s\u001b[0m 78ms/step - accuracy: 0.5558 - loss: 0.6885 - val_accuracy: 0.5745 - val_loss: 0.6578\n",
      "Epoch 2/20\n",
      "\u001b[1m48/48\u001b[0m \u001b[32m━━━━━━━━━━━━━━━━━━━━\u001b[0m\u001b[37m\u001b[0m \u001b[1m3s\u001b[0m 64ms/step - accuracy: 0.5846 - loss: 0.6578 - val_accuracy: 0.6297 - val_loss: 0.6432\n",
      "Epoch 3/20\n",
      "\u001b[1m48/48\u001b[0m \u001b[32m━━━━━━━━━━━━━━━━━━━━\u001b[0m\u001b[37m\u001b[0m \u001b[1m3s\u001b[0m 63ms/step - accuracy: 0.6537 - loss: 0.6387 - val_accuracy: 0.6756 - val_loss: 0.6201\n",
      "Epoch 4/20\n",
      "\u001b[1m48/48\u001b[0m \u001b[32m━━━━━━━━━━━━━━━━━━━━\u001b[0m\u001b[37m\u001b[0m \u001b[1m3s\u001b[0m 63ms/step - accuracy: 0.7140 - loss: 0.5995 - val_accuracy: 0.7446 - val_loss: 0.5508\n",
      "Epoch 5/20\n",
      "\u001b[1m48/48\u001b[0m \u001b[32m━━━━━━━━━━━━━━━━━━━━\u001b[0m\u001b[37m\u001b[0m \u001b[1m3s\u001b[0m 63ms/step - accuracy: 0.8163 - loss: 0.4588 - val_accuracy: 0.7997 - val_loss: 0.4432\n",
      "Epoch 6/20\n",
      "\u001b[1m48/48\u001b[0m \u001b[32m━━━━━━━━━━━━━━━━━━━━\u001b[0m\u001b[37m\u001b[0m \u001b[1m3s\u001b[0m 62ms/step - accuracy: 0.8653 - loss: 0.3251 - val_accuracy: 0.7971 - val_loss: 0.4511\n",
      "Epoch 7/20\n",
      "\u001b[1m48/48\u001b[0m \u001b[32m━━━━━━━━━━━━━━━━━━━━\u001b[0m\u001b[37m\u001b[0m \u001b[1m3s\u001b[0m 63ms/step - accuracy: 0.8856 - loss: 0.2806 - val_accuracy: 0.8135 - val_loss: 0.4587\n",
      "Epoch 8/20\n",
      "\u001b[1m48/48\u001b[0m \u001b[32m━━━━━━━━━━━━━━━━━━━━\u001b[0m\u001b[37m\u001b[0m \u001b[1m4s\u001b[0m 74ms/step - accuracy: 0.9037 - loss: 0.2437 - val_accuracy: 0.8070 - val_loss: 0.4812\n",
      "Epoch 9/20\n",
      "\u001b[1m48/48\u001b[0m \u001b[32m━━━━━━━━━━━━━━━━━━━━\u001b[0m\u001b[37m\u001b[0m \u001b[1m3s\u001b[0m 62ms/step - accuracy: 0.9237 - loss: 0.2092 - val_accuracy: 0.8030 - val_loss: 0.5114\n",
      "Epoch 10/20\n",
      "\u001b[1m48/48\u001b[0m \u001b[32m━━━━━━━━━━━━━━━━━━━━\u001b[0m\u001b[37m\u001b[0m \u001b[1m3s\u001b[0m 64ms/step - accuracy: 0.9327 - loss: 0.1811 - val_accuracy: 0.8024 - val_loss: 0.5445\n",
      "Epoch 10: early stopping\n",
      "Restoring model weights from the end of the best epoch: 5.\n",
      "\u001b[1m48/48\u001b[0m \u001b[32m━━━━━━━━━━━━━━━━━━━━\u001b[0m\u001b[37m\u001b[0m \u001b[1m1s\u001b[0m 11ms/step - accuracy: 0.7861 - loss: 0.4638\n",
      "\n",
      "Validation accuracy: 0.7997373342514038\n"
     ]
    }
   ],
   "source": [
    "# Constructing the model\n",
    "model_deep = Sequential([\n",
    "    Embedding(input_dim=max_words, output_dim=128, input_shape=(max_len,)), # max_len\n",
    "    LSTM(128, return_sequences=True),  # First LSTM layer, returns sequences to feed into next LSTM layer\n",
    "    LSTM(64, return_sequences=False),  # Second LSTM layer, does not need to return sequences\n",
    "    Dense(64, activation='relu'),\n",
    "    Dense(1, activation='sigmoid')  # Output layer for binary classification\n",
    "])\n",
    "\n",
    "# Create a new Adam optimizer instance for this specific model\n",
    "custom_adam = Adam(learning_rate=0.0001)\n",
    "\n",
    "# Compile the model\n",
    "model_deep.compile(optimizer=custom_adam, loss='binary_crossentropy', metrics=['accuracy'])\n",
    "\n",
    "# Set up early stopping\n",
    "early_stop = EarlyStopping(monitor='val_loss', patience=5, restore_best_weights=True, verbose=True)\n",
    "\n",
    "# Train the model\n",
    "history_deep = model_deep.fit(X_train, y_train, validation_data=(X_valid, y_valid), epochs=20, batch_size=128, callbacks=[early_stop])\n",
    "\n",
    "# Evaluate the model on the validation set\n",
    "loss, accuracy = model_deep.evaluate(X_valid, y_valid)\n",
    "print()\n",
    "print(\"Validation accuracy:\", accuracy)"
   ]
  },
  {
   "cell_type": "code",
   "execution_count": 22,
   "id": "b75b0771",
   "metadata": {
    "execution": {
     "iopub.execute_input": "2025-06-21T15:07:44.351146Z",
     "iopub.status.busy": "2025-06-21T15:07:44.350833Z",
     "iopub.status.idle": "2025-06-21T15:07:44.745359Z",
     "shell.execute_reply": "2025-06-21T15:07:44.744454Z"
    },
    "papermill": {
     "duration": 0.440408,
     "end_time": "2025-06-21T15:07:44.747014",
     "exception": false,
     "start_time": "2025-06-21T15:07:44.306606",
     "status": "completed"
    },
    "tags": []
   },
   "outputs": [
    {
     "data": {
      "image/png": "[encoded data removed]",
      "text/plain": [
       "<Figure size 640x480 with 1 Axes>"
      ]
     },
     "metadata": {},
     "output_type": "display_data"
    },
    {
     "data": {
      "image/png": "[encoded data removed]",
      "text/plain": [
       "<Figure size 640x480 with 1 Axes>"
      ]
     },
     "metadata": {},
     "output_type": "display_data"
    }
   ],
   "source": [
    "plot_training_history(history_deep)"
   ]
  },
  {
   "cell_type": "markdown",
   "id": "4154fb25",
   "metadata": {
    "papermill": {
     "duration": 0.045017,
     "end_time": "2025-06-21T15:07:44.839837",
     "exception": false,
     "start_time": "2025-06-21T15:07:44.794820",
     "status": "completed"
    },
    "tags": []
   },
   "source": [
    "### Comparison:"
   ]
  },
  {
   "cell_type": "code",
   "execution_count": 23,
   "id": "9099c126",
   "metadata": {
    "execution": {
     "iopub.execute_input": "2025-06-21T15:07:44.929509Z",
     "iopub.status.busy": "2025-06-21T15:07:44.929185Z",
     "iopub.status.idle": "2025-06-21T15:07:46.008927Z",
     "shell.execute_reply": "2025-06-21T15:07:46.007831Z"
    },
    "papermill": {
     "duration": 1.127156,
     "end_time": "2025-06-21T15:07:46.010875",
     "exception": false,
     "start_time": "2025-06-21T15:07:44.883719",
     "status": "completed"
    },
    "tags": []
   },
   "outputs": [
    {
     "data": {
      "image/png": "[encoded data removed]",
      "text/plain": [
       "<Figure size 1000x400 with 2 Axes>"
      ]
     },
     "metadata": {},
     "output_type": "display_data"
    }
   ],
   "source": [
    "best = get_best_epoch_stats( ('Basic', 'Deep'), (history_basic, history_deep)  )\n",
    "plot_model_metrics(*best)"
   ]
  },
  {
   "cell_type": "markdown",
   "id": "233e24e0",
   "metadata": {
    "papermill": {
     "duration": 0.044182,
     "end_time": "2025-06-21T15:07:46.100427",
     "exception": false,
     "start_time": "2025-06-21T15:07:46.056245",
     "status": "completed"
    },
    "tags": []
   },
   "source": [
    "## Results Summary\n",
    "\n",
    "The deep architecture shows improved performance over the basic model:\n",
    "\n",
    "- **Accuracy**: Deep model achieves 81.4% vs. 78.4% for the basic model (+3.0% improvement)\n",
    "- **Loss**: Deep model has lower loss at 0.46 vs. 0.51 for the basic model\n",
    "\n",
    "## Key Findings\n",
    "\n",
    "- The additional layers in the deep architecture provide meaningful performance gains\n",
    "- Both models achieve reasonable accuracy levels for disaster tweet classification\n",
    "- The deep model's lower loss indicates better optimization and learning\n",
    "- The 3% accuracy improvement suggests the added complexity is justified\n",
    "\n",
    "On the basis of the deep model's outperformance, we will review model regularization factors to see if further performance improvement can be achieved..."
   ]
  },
  {
   "cell_type": "markdown",
   "id": "f3f92c67",
   "metadata": {
    "papermill": {
     "duration": 0.043988,
     "end_time": "2025-06-21T15:07:46.188783",
     "exception": false,
     "start_time": "2025-06-21T15:07:46.144795",
     "status": "completed"
    },
    "tags": []
   },
   "source": [
    "### L2 Regularisation to improve the Deep model:"
   ]
  },
  {
   "cell_type": "code",
   "execution_count": 24,
   "id": "66105831",
   "metadata": {
    "execution": {
     "iopub.execute_input": "2025-06-21T15:07:46.280526Z",
     "iopub.status.busy": "2025-06-21T15:07:46.280158Z",
     "iopub.status.idle": "2025-06-21T15:08:24.782484Z",
     "shell.execute_reply": "2025-06-21T15:08:24.781486Z"
    },
    "papermill": {
     "duration": 38.551092,
     "end_time": "2025-06-21T15:08:24.784086",
     "exception": false,
     "start_time": "2025-06-21T15:07:46.232994",
     "status": "completed"
    },
    "tags": []
   },
   "outputs": [
    {
     "name": "stdout",
     "output_type": "stream",
     "text": [
      "Epoch 1/20\n",
      "\u001b[1m48/48\u001b[0m \u001b[32m━━━━━━━━━━━━━━━━━━━━\u001b[0m\u001b[37m\u001b[0m \u001b[1m10s\u001b[0m 79ms/step - accuracy: 0.5573 - loss: 0.7339 - val_accuracy: 0.5929 - val_loss: 0.7125\n",
      "Epoch 2/20\n",
      "\u001b[1m48/48\u001b[0m \u001b[32m━━━━━━━━━━━━━━━━━━━━\u001b[0m\u001b[37m\u001b[0m \u001b[1m3s\u001b[0m 64ms/step - accuracy: 0.6039 - loss: 0.7034 - val_accuracy: 0.6290 - val_loss: 0.6812\n",
      "Epoch 3/20\n",
      "\u001b[1m48/48\u001b[0m \u001b[32m━━━━━━━━━━━━━━━━━━━━\u001b[0m\u001b[37m\u001b[0m \u001b[1m3s\u001b[0m 64ms/step - accuracy: 0.6529 - loss: 0.6730 - val_accuracy: 0.6710 - val_loss: 0.6502\n",
      "Epoch 4/20\n",
      "\u001b[1m48/48\u001b[0m \u001b[32m━━━━━━━━━━━━━━━━━━━━\u001b[0m\u001b[37m\u001b[0m \u001b[1m3s\u001b[0m 64ms/step - accuracy: 0.7225 - loss: 0.6169 - val_accuracy: 0.7748 - val_loss: 0.5333\n",
      "Epoch 5/20\n",
      "\u001b[1m48/48\u001b[0m \u001b[32m━━━━━━━━━━━━━━━━━━━━\u001b[0m\u001b[37m\u001b[0m \u001b[1m3s\u001b[0m 70ms/step - accuracy: 0.8281 - loss: 0.4595 - val_accuracy: 0.7971 - val_loss: 0.4864\n",
      "Epoch 6/20\n",
      "\u001b[1m48/48\u001b[0m \u001b[32m━━━━━━━━━━━━━━━━━━━━\u001b[0m\u001b[37m\u001b[0m \u001b[1m3s\u001b[0m 65ms/step - accuracy: 0.8684 - loss: 0.3586 - val_accuracy: 0.8043 - val_loss: 0.4880\n",
      "Epoch 7/20\n",
      "\u001b[1m48/48\u001b[0m \u001b[32m━━━━━━━━━━━━━━━━━━━━\u001b[0m\u001b[37m\u001b[0m \u001b[1m3s\u001b[0m 62ms/step - accuracy: 0.8914 - loss: 0.3186 - val_accuracy: 0.8089 - val_loss: 0.4996\n",
      "Epoch 8/20\n",
      "\u001b[1m48/48\u001b[0m \u001b[32m━━━━━━━━━━━━━━━━━━━━\u001b[0m\u001b[37m\u001b[0m \u001b[1m3s\u001b[0m 63ms/step - accuracy: 0.9016 - loss: 0.2939 - val_accuracy: 0.8089 - val_loss: 0.5038\n",
      "Epoch 9/20\n",
      "\u001b[1m48/48\u001b[0m \u001b[32m━━━━━━━━━━━━━━━━━━━━\u001b[0m\u001b[37m\u001b[0m \u001b[1m3s\u001b[0m 62ms/step - accuracy: 0.9182 - loss: 0.2540 - val_accuracy: 0.8096 - val_loss: 0.5293\n",
      "Epoch 10/20\n",
      "\u001b[1m48/48\u001b[0m \u001b[32m━━━━━━━━━━━━━━━━━━━━\u001b[0m\u001b[37m\u001b[0m \u001b[1m3s\u001b[0m 63ms/step - accuracy: 0.9314 - loss: 0.2253 - val_accuracy: 0.8024 - val_loss: 0.5556\n",
      "Epoch 10: early stopping\n",
      "Restoring model weights from the end of the best epoch: 5.\n",
      "\u001b[1m48/48\u001b[0m \u001b[32m━━━━━━━━━━━━━━━━━━━━\u001b[0m\u001b[37m\u001b[0m \u001b[1m1s\u001b[0m 11ms/step - accuracy: 0.7838 - loss: 0.5054\n",
      "\n",
      "Validation accuracy: 0.7971109747886658\n"
     ]
    }
   ],
   "source": [
    "# Set the L2 regularization factor\n",
    "l2_reg = 0.0001  # This is an example value and can be adjusted based on the needs\n",
    "\n",
    "# Constructing the model with L2 regularization\n",
    "model_deep_l2_0001 = Sequential([\n",
    "    Embedding(input_dim=max_words, output_dim=128, input_shape=(max_len,)), # max_len\n",
    "    LSTM(128, return_sequences=True, kernel_regularizer=l2(l2_reg)),  # First LSTM layer with L2 regularization\n",
    "    LSTM(64, return_sequences=False, kernel_regularizer=l2(l2_reg)),  # Second LSTM layer with L2 regularization\n",
    "    Dense(64, activation='relu', kernel_regularizer=l2(l2_reg)),  # Dense layer with L2 regularization\n",
    "    Dense(1, activation='sigmoid', kernel_regularizer=l2(l2_reg))  # Output layer with L2 regularization\n",
    "])\n",
    "\n",
    "# Create a new Adam optimizer instance for this specific model\n",
    "custom_adam = Adam(learning_rate=0.0001)\n",
    "\n",
    "# Compile the model\n",
    "model_deep_l2_0001.compile(optimizer=custom_adam, loss='binary_crossentropy', metrics=['accuracy'])\n",
    "\n",
    "# Set up early stopping\n",
    "early_stop = EarlyStopping(monitor='val_loss', patience=5, restore_best_weights=True, verbose=True)\n",
    "\n",
    "# Train the model\n",
    "history_deep_l2_0001 = model_deep_l2_0001.fit(X_train, y_train, validation_data=(X_valid, y_valid), epochs=20, batch_size=128, callbacks=[early_stop])\n",
    "\n",
    "# Evaluate the model on the validation set\n",
    "loss, accuracy = model_deep_l2_0001.evaluate(X_valid, y_valid)\n",
    "print()\n",
    "print(\"Validation accuracy:\", accuracy)"
   ]
  },
  {
   "cell_type": "code",
   "execution_count": 25,
   "id": "3967c6bf",
   "metadata": {
    "execution": {
     "iopub.execute_input": "2025-06-21T15:08:24.926649Z",
     "iopub.status.busy": "2025-06-21T15:08:24.926312Z",
     "iopub.status.idle": "2025-06-21T15:09:06.619874Z",
     "shell.execute_reply": "2025-06-21T15:09:06.618722Z"
    },
    "papermill": {
     "duration": 41.766505,
     "end_time": "2025-06-21T15:09:06.621533",
     "exception": false,
     "start_time": "2025-06-21T15:08:24.855028",
     "status": "completed"
    },
    "tags": []
   },
   "outputs": [
    {
     "name": "stdout",
     "output_type": "stream",
     "text": [
      "Epoch 1/20\n",
      "\u001b[1m48/48\u001b[0m \u001b[32m━━━━━━━━━━━━━━━━━━━━\u001b[0m\u001b[37m\u001b[0m \u001b[1m10s\u001b[0m 80ms/step - accuracy: 0.5706 - loss: 1.1185 - val_accuracy: 0.5772 - val_loss: 1.0536\n",
      "Epoch 2/20\n",
      "\u001b[1m48/48\u001b[0m \u001b[32m━━━━━━━━━━━━━━━━━━━━\u001b[0m\u001b[37m\u001b[0m \u001b[1m3s\u001b[0m 64ms/step - accuracy: 0.5918 - loss: 1.0431 - val_accuracy: 0.6211 - val_loss: 0.9995\n",
      "Epoch 3/20\n",
      "\u001b[1m48/48\u001b[0m \u001b[32m━━━━━━━━━━━━━━━━━━━━\u001b[0m\u001b[37m\u001b[0m \u001b[1m3s\u001b[0m 68ms/step - accuracy: 0.6406 - loss: 0.9869 - val_accuracy: 0.6619 - val_loss: 0.9460\n",
      "Epoch 4/20\n",
      "\u001b[1m48/48\u001b[0m \u001b[32m━━━━━━━━━━━━━━━━━━━━\u001b[0m\u001b[37m\u001b[0m \u001b[1m3s\u001b[0m 66ms/step - accuracy: 0.7025 - loss: 0.9211 - val_accuracy: 0.7275 - val_loss: 0.8596\n",
      "Epoch 5/20\n",
      "\u001b[1m48/48\u001b[0m \u001b[32m━━━━━━━━━━━━━━━━━━━━\u001b[0m\u001b[37m\u001b[0m \u001b[1m3s\u001b[0m 65ms/step - accuracy: 0.8027 - loss: 0.7678 - val_accuracy: 0.7938 - val_loss: 0.7341\n",
      "Epoch 6/20\n",
      "\u001b[1m48/48\u001b[0m \u001b[32m━━━━━━━━━━━━━━━━━━━━\u001b[0m\u001b[37m\u001b[0m \u001b[1m3s\u001b[0m 63ms/step - accuracy: 0.8615 - loss: 0.6043 - val_accuracy: 0.8037 - val_loss: 0.7049\n",
      "Epoch 7/20\n",
      "\u001b[1m48/48\u001b[0m \u001b[32m━━━━━━━━━━━━━━━━━━━━\u001b[0m\u001b[37m\u001b[0m \u001b[1m3s\u001b[0m 63ms/step - accuracy: 0.8845 - loss: 0.5321 - val_accuracy: 0.8050 - val_loss: 0.7055\n",
      "Epoch 8/20\n",
      "\u001b[1m48/48\u001b[0m \u001b[32m━━━━━━━━━━━━━━━━━━━━\u001b[0m\u001b[37m\u001b[0m \u001b[1m3s\u001b[0m 63ms/step - accuracy: 0.9026 - loss: 0.4796 - val_accuracy: 0.8050 - val_loss: 0.7110\n",
      "Epoch 9/20\n",
      "\u001b[1m48/48\u001b[0m \u001b[32m━━━━━━━━━━━━━━━━━━━━\u001b[0m\u001b[37m\u001b[0m \u001b[1m3s\u001b[0m 63ms/step - accuracy: 0.9164 - loss: 0.4346 - val_accuracy: 0.7997 - val_loss: 0.7207\n",
      "Epoch 10/20\n",
      "\u001b[1m48/48\u001b[0m \u001b[32m━━━━━━━━━━━━━━━━━━━━\u001b[0m\u001b[37m\u001b[0m \u001b[1m3s\u001b[0m 64ms/step - accuracy: 0.9302 - loss: 0.3956 - val_accuracy: 0.8011 - val_loss: 0.7358\n",
      "Epoch 11/20\n",
      "\u001b[1m48/48\u001b[0m \u001b[32m━━━━━━━━━━━━━━━━━━━━\u001b[0m\u001b[37m\u001b[0m \u001b[1m3s\u001b[0m 65ms/step - accuracy: 0.9374 - loss: 0.3613 - val_accuracy: 0.7991 - val_loss: 0.7568\n",
      "Epoch 11: early stopping\n",
      "Restoring model weights from the end of the best epoch: 6.\n",
      "\u001b[1m48/48\u001b[0m \u001b[32m━━━━━━━━━━━━━━━━━━━━\u001b[0m\u001b[37m\u001b[0m \u001b[1m1s\u001b[0m 11ms/step - accuracy: 0.7977 - loss: 0.7257\n",
      "\n",
      "Validation accuracy: 0.803676962852478\n"
     ]
    }
   ],
   "source": [
    "# Set the L2 regularization factor\n",
    "l2_reg = 0.001  # This is an example value and can be adjusted based on the needs\n",
    "\n",
    "# Constructing the model with L2 regularization\n",
    "model_deep_l2_001 = Sequential([\n",
    "    Embedding(input_dim=max_words, output_dim=128, input_shape=(max_len,)), # max_len\n",
    "    LSTM(128, return_sequences=True, kernel_regularizer=l2(l2_reg)),  # First LSTM layer with L2 regularization\n",
    "    LSTM(64, return_sequences=False, kernel_regularizer=l2(l2_reg)),  # Second LSTM layer with L2 regularization\n",
    "    Dense(64, activation='relu', kernel_regularizer=l2(l2_reg)),  # Dense layer with L2 regularization\n",
    "    Dense(1, activation='sigmoid', kernel_regularizer=l2(l2_reg))  # Output layer with L2 regularization\n",
    "])\n",
    "\n",
    "# Create a new Adam optimizer instance for this specific model\n",
    "custom_adam = Adam(learning_rate=0.0001)\n",
    "\n",
    "# Compile the model\n",
    "model_deep_l2_001.compile(optimizer=custom_adam, loss='binary_crossentropy', metrics=['accuracy'])\n",
    "\n",
    "# Set up early stopping\n",
    "early_stop = EarlyStopping(monitor='val_loss', patience=5, restore_best_weights=True, verbose=True)\n",
    "\n",
    "# Train the model\n",
    "history_deep_l2_001 = model_deep_l2_001.fit(X_train, y_train, validation_data=(X_valid, y_valid), epochs=20, batch_size=128, callbacks=[early_stop])\n",
    "\n",
    "# Evaluate the model on the validation set\n",
    "loss, accuracy = model_deep_l2_001.evaluate(X_valid, y_valid)\n",
    "print()\n",
    "print(\"Validation accuracy:\", accuracy)"
   ]
  },
  {
   "cell_type": "code",
   "execution_count": 26,
   "id": "d5beb7ae",
   "metadata": {
    "execution": {
     "iopub.execute_input": "2025-06-21T15:09:06.833956Z",
     "iopub.status.busy": "2025-06-21T15:09:06.833594Z",
     "iopub.status.idle": "2025-06-21T15:09:07.176814Z",
     "shell.execute_reply": "2025-06-21T15:09:07.175748Z"
    },
    "papermill": {
     "duration": 0.456334,
     "end_time": "2025-06-21T15:09:07.178265",
     "exception": false,
     "start_time": "2025-06-21T15:09:06.721931",
     "status": "completed"
    },
    "tags": []
   },
   "outputs": [
    {
     "data": {
      "image/png": "[encoded data removed]",
      "text/plain": [
       "<Figure size 1000x400 with 2 Axes>"
      ]
     },
     "metadata": {},
     "output_type": "display_data"
    }
   ],
   "source": [
    "best = get_best_epoch_stats( ('Deep', 'L2 0.0001', 'L2 0.001'), (history_deep, history_deep_l2_0001, history_deep_l2_001)  )\n",
    "plot_model_metrics(*best)"
   ]
  },
  {
   "cell_type": "markdown",
   "id": "a7cb7cbe",
   "metadata": {
    "papermill": {
     "duration": 0.10351,
     "end_time": "2025-06-21T15:09:07.406861",
     "exception": false,
     "start_time": "2025-06-21T15:09:07.303351",
     "status": "completed"
    },
    "tags": []
   },
   "source": [
    "## Results Summary\n",
    "\n",
    "Comparing the deep model with L2 regularization variants:\n",
    "\n",
    "- **Deep (no regularization)**: 81.4% accuracy, 0.46 loss\n",
    "- **L2 0.0001**: 81.0% accuracy, 0.53 loss  \n",
    "- **L2 0.001**: 80.5% accuracy, 0.71 loss\n",
    "\n",
    "## Key Findings\n",
    "\n",
    "- **L2 regularization reduces performance**: Both regularized models show lower accuracy than the original\n",
    "- **Stronger regularization = worse performance**: Higher L2 values (0.001) lead to greater accuracy drops\n",
    "- **Loss increases with regularization**: Loss values rise significantly with stronger regularization\n",
    "\n",
    "## Conclusion\n",
    "\n",
    "For this disaster tweet classification task, L2 regularization appears to be counterproductive. The original deep model without regularization achieves the best performance, suggesting the model is not overfitting and doesn't benefit from additional constraints. The dataset may be well-suited to the model complexity without requiring regularization."
   ]
  },
  {
   "cell_type": "markdown",
   "id": "d5e7ac76",
   "metadata": {
    "papermill": {
     "duration": 0.098728,
     "end_time": "2025-06-21T15:09:07.603061",
     "exception": false,
     "start_time": "2025-06-21T15:09:07.504333",
     "status": "completed"
    },
    "tags": []
   },
   "source": [
    "### Kaggle submission:"
   ]
  },
  {
   "cell_type": "code",
   "execution_count": 27,
   "id": "7793df8e",
   "metadata": {
    "execution": {
     "iopub.execute_input": "2025-06-21T15:09:07.798033Z",
     "iopub.status.busy": "2025-06-21T15:09:07.797724Z",
     "iopub.status.idle": "2025-06-21T15:09:07.803716Z",
     "shell.execute_reply": "2025-06-21T15:09:07.802536Z"
    },
    "papermill": {
     "duration": 0.103717,
     "end_time": "2025-06-21T15:09:07.805297",
     "exception": false,
     "start_time": "2025-06-21T15:09:07.701580",
     "status": "completed"
    },
    "tags": []
   },
   "outputs": [],
   "source": [
    "def predict_text(df, tokenizer, model, max_len):\n",
    "    # Ensure text column is string type\n",
    "    df['cleaned_text'] = df['cleaned_text'].astype(str)\n",
    "\n",
    "    # Tokenize and pad the text data\n",
    "    sequences = tokenizer.texts_to_sequences(df['cleaned_text'])\n",
    "    padded_sequences = pad_sequences(sequences, maxlen=max_len)\n",
    "\n",
    "    # Predict using the RNN model\n",
    "    predictions = model.predict(padded_sequences)\n",
    "\n",
    "    # Convert predictions to binary\n",
    "    df['target'] = (predictions > 0.5).astype(int)\n",
    "\n",
    "    return df"
   ]
  },
  {
   "cell_type": "code",
   "execution_count": 28,
   "id": "268028c9",
   "metadata": {
    "execution": {
     "iopub.execute_input": "2025-06-21T15:09:07.998795Z",
     "iopub.status.busy": "2025-06-21T15:09:07.998055Z",
     "iopub.status.idle": "2025-06-21T15:09:08.010828Z",
     "shell.execute_reply": "2025-06-21T15:09:08.009610Z"
    },
    "papermill": {
     "duration": 0.111868,
     "end_time": "2025-06-21T15:09:08.012372",
     "exception": false,
     "start_time": "2025-06-21T15:09:07.900504",
     "status": "completed"
    },
    "tags": []
   },
   "outputs": [
    {
     "data": {
      "text/html": [
       "<div>\n",
       "<style scoped>\n",
       "    .dataframe tbody tr th:only-of-type {\n",
       "        vertical-align: middle;\n",
       "    }\n",
       "\n",
       "    .dataframe tbody tr th {\n",
       "        vertical-align: top;\n",
       "    }\n",
       "\n",
       "    .dataframe thead th {\n",
       "        text-align: right;\n",
       "    }\n",
       "</style>\n",
       "<table border=\"1\" class=\"dataframe\">\n",
       "  <thead>\n",
       "    <tr style=\"text-align: right;\">\n",
       "      <th></th>\n",
       "      <th>id</th>\n",
       "      <th>keyword</th>\n",
       "      <th>location</th>\n",
       "      <th>text</th>\n",
       "    </tr>\n",
       "  </thead>\n",
       "  <tbody>\n",
       "    <tr>\n",
       "      <th>0</th>\n",
       "      <td>0</td>\n",
       "      <td>NaN</td>\n",
       "      <td>NaN</td>\n",
       "      <td>Just happened a terrible car crash</td>\n",
       "    </tr>\n",
       "    <tr>\n",
       "      <th>1</th>\n",
       "      <td>2</td>\n",
       "      <td>NaN</td>\n",
       "      <td>NaN</td>\n",
       "      <td>Heard about #earthquake is different cities, s...</td>\n",
       "    </tr>\n",
       "    <tr>\n",
       "      <th>2</th>\n",
       "      <td>3</td>\n",
       "      <td>NaN</td>\n",
       "      <td>NaN</td>\n",
       "      <td>there is a forest fire at spot pond, geese are...</td>\n",
       "    </tr>\n",
       "    <tr>\n",
       "      <th>3</th>\n",
       "      <td>9</td>\n",
       "      <td>NaN</td>\n",
       "      <td>NaN</td>\n",
       "      <td>Apocalypse lighting. #Spokane #wildfires</td>\n",
       "    </tr>\n",
       "    <tr>\n",
       "      <th>4</th>\n",
       "      <td>11</td>\n",
       "      <td>NaN</td>\n",
       "      <td>NaN</td>\n",
       "      <td>Typhoon Soudelor kills 28 in China and Taiwan</td>\n",
       "    </tr>\n",
       "    <tr>\n",
       "      <th>...</th>\n",
       "      <td>...</td>\n",
       "      <td>...</td>\n",
       "      <td>...</td>\n",
       "      <td>...</td>\n",
       "    </tr>\n",
       "    <tr>\n",
       "      <th>3258</th>\n",
       "      <td>10861</td>\n",
       "      <td>NaN</td>\n",
       "      <td>NaN</td>\n",
       "      <td>EARTHQUAKE SAFETY LOS ANGELES ÛÒ SAFETY FASTE...</td>\n",
       "    </tr>\n",
       "    <tr>\n",
       "      <th>3259</th>\n",
       "      <td>10865</td>\n",
       "      <td>NaN</td>\n",
       "      <td>NaN</td>\n",
       "      <td>Storm in RI worse than last hurricane. My city...</td>\n",
       "    </tr>\n",
       "    <tr>\n",
       "      <th>3260</th>\n",
       "      <td>10868</td>\n",
       "      <td>NaN</td>\n",
       "      <td>NaN</td>\n",
       "      <td>Green Line derailment in Chicago http://t.co/U...</td>\n",
       "    </tr>\n",
       "    <tr>\n",
       "      <th>3261</th>\n",
       "      <td>10874</td>\n",
       "      <td>NaN</td>\n",
       "      <td>NaN</td>\n",
       "      <td>MEG issues Hazardous Weather Outlook (HWO) htt...</td>\n",
       "    </tr>\n",
       "    <tr>\n",
       "      <th>3262</th>\n",
       "      <td>10875</td>\n",
       "      <td>NaN</td>\n",
       "      <td>NaN</td>\n",
       "      <td>#CityofCalgary has activated its Municipal Eme...</td>\n",
       "    </tr>\n",
       "  </tbody>\n",
       "</table>\n",
       "<p>3263 rows × 4 columns</p>\n",
       "</div>"
      ],
      "text/plain": [
       "         id keyword location  \\\n",
       "0         0     NaN      NaN   \n",
       "1         2     NaN      NaN   \n",
       "2         3     NaN      NaN   \n",
       "3         9     NaN      NaN   \n",
       "4        11     NaN      NaN   \n",
       "...     ...     ...      ...   \n",
       "3258  10861     NaN      NaN   \n",
       "3259  10865     NaN      NaN   \n",
       "3260  10868     NaN      NaN   \n",
       "3261  10874     NaN      NaN   \n",
       "3262  10875     NaN      NaN   \n",
       "\n",
       "                                                   text  \n",
       "0                    Just happened a terrible car crash  \n",
       "1     Heard about #earthquake is different cities, s...  \n",
       "2     there is a forest fire at spot pond, geese are...  \n",
       "3              Apocalypse lighting. #Spokane #wildfires  \n",
       "4         Typhoon Soudelor kills 28 in China and Taiwan  \n",
       "...                                                 ...  \n",
       "3258  EARTHQUAKE SAFETY LOS ANGELES ÛÒ SAFETY FASTE...  \n",
       "3259  Storm in RI worse than last hurricane. My city...  \n",
       "3260  Green Line derailment in Chicago http://t.co/U...  \n",
       "3261  MEG issues Hazardous Weather Outlook (HWO) htt...  \n",
       "3262  #CityofCalgary has activated its Municipal Eme...  \n",
       "\n",
       "[3263 rows x 4 columns]"
      ]
     },
     "execution_count": 28,
     "metadata": {},
     "output_type": "execute_result"
    }
   ],
   "source": [
    "df_test"
   ]
  },
  {
   "cell_type": "code",
   "execution_count": 29,
   "id": "30095be7",
   "metadata": {
    "execution": {
     "iopub.execute_input": "2025-06-21T15:09:08.205297Z",
     "iopub.status.busy": "2025-06-21T15:09:08.204990Z",
     "iopub.status.idle": "2025-06-21T15:09:10.495434Z",
     "shell.execute_reply": "2025-06-21T15:09:10.494452Z"
    },
    "papermill": {
     "duration": 2.387159,
     "end_time": "2025-06-21T15:09:10.497207",
     "exception": false,
     "start_time": "2025-06-21T15:09:08.110048",
     "status": "completed"
    },
    "tags": []
   },
   "outputs": [
    {
     "name": "stdout",
     "output_type": "stream",
     "text": [
      "\u001b[1m102/102\u001b[0m \u001b[32m━━━━━━━━━━━━━━━━━━━━\u001b[0m\u001b[37m\u001b[0m \u001b[1m2s\u001b[0m 14ms/step\n"
     ]
    },
    {
     "data": {
      "text/html": [
       "<div>\n",
       "<style scoped>\n",
       "    .dataframe tbody tr th:only-of-type {\n",
       "        vertical-align: middle;\n",
       "    }\n",
       "\n",
       "    .dataframe tbody tr th {\n",
       "        vertical-align: top;\n",
       "    }\n",
       "\n",
       "    .dataframe thead th {\n",
       "        text-align: right;\n",
       "    }\n",
       "</style>\n",
       "<table border=\"1\" class=\"dataframe\">\n",
       "  <thead>\n",
       "    <tr style=\"text-align: right;\">\n",
       "      <th></th>\n",
       "      <th>id</th>\n",
       "      <th>target</th>\n",
       "    </tr>\n",
       "  </thead>\n",
       "  <tbody>\n",
       "    <tr>\n",
       "      <th>0</th>\n",
       "      <td>0</td>\n",
       "      <td>0</td>\n",
       "    </tr>\n",
       "    <tr>\n",
       "      <th>1</th>\n",
       "      <td>2</td>\n",
       "      <td>1</td>\n",
       "    </tr>\n",
       "    <tr>\n",
       "      <th>2</th>\n",
       "      <td>3</td>\n",
       "      <td>1</td>\n",
       "    </tr>\n",
       "    <tr>\n",
       "      <th>3</th>\n",
       "      <td>9</td>\n",
       "      <td>0</td>\n",
       "    </tr>\n",
       "    <tr>\n",
       "      <th>4</th>\n",
       "      <td>11</td>\n",
       "      <td>1</td>\n",
       "    </tr>\n",
       "    <tr>\n",
       "      <th>...</th>\n",
       "      <td>...</td>\n",
       "      <td>...</td>\n",
       "    </tr>\n",
       "    <tr>\n",
       "      <th>3258</th>\n",
       "      <td>10861</td>\n",
       "      <td>1</td>\n",
       "    </tr>\n",
       "    <tr>\n",
       "      <th>3259</th>\n",
       "      <td>10865</td>\n",
       "      <td>1</td>\n",
       "    </tr>\n",
       "    <tr>\n",
       "      <th>3260</th>\n",
       "      <td>10868</td>\n",
       "      <td>1</td>\n",
       "    </tr>\n",
       "    <tr>\n",
       "      <th>3261</th>\n",
       "      <td>10874</td>\n",
       "      <td>1</td>\n",
       "    </tr>\n",
       "    <tr>\n",
       "      <th>3262</th>\n",
       "      <td>10875</td>\n",
       "      <td>1</td>\n",
       "    </tr>\n",
       "  </tbody>\n",
       "</table>\n",
       "<p>3263 rows × 2 columns</p>\n",
       "</div>"
      ],
      "text/plain": [
       "         id  target\n",
       "0         0       0\n",
       "1         2       1\n",
       "2         3       1\n",
       "3         9       0\n",
       "4        11       1\n",
       "...     ...     ...\n",
       "3258  10861       1\n",
       "3259  10865       1\n",
       "3260  10868       1\n",
       "3261  10874       1\n",
       "3262  10875       1\n",
       "\n",
       "[3263 rows x 2 columns]"
      ]
     },
     "execution_count": 29,
     "metadata": {},
     "output_type": "execute_result"
    }
   ],
   "source": [
    "df_test['cleaned_text'] = df_test['text'].apply(clean_text)\n",
    "df_kaggle = predict_text(df_test, tokenizer, model_deep, max_len=15)\n",
    "df_kaggle = df_kaggle[['id', 'target']]\n",
    "df_kaggle"
   ]
  },
  {
   "cell_type": "code",
   "execution_count": 30,
   "id": "41d3adbb",
   "metadata": {
    "execution": {
     "iopub.execute_input": "2025-06-21T15:09:10.696228Z",
     "iopub.status.busy": "2025-06-21T15:09:10.695918Z",
     "iopub.status.idle": "2025-06-21T15:09:10.708337Z",
     "shell.execute_reply": "2025-06-21T15:09:10.707522Z"
    },
    "papermill": {
     "duration": 0.114134,
     "end_time": "2025-06-21T15:09:10.709966",
     "exception": false,
     "start_time": "2025-06-21T15:09:10.595832",
     "status": "completed"
    },
    "tags": []
   },
   "outputs": [],
   "source": [
    "df_kaggle.to_csv('/kaggle/working/submission.csv', index=False)"
   ]
  },
  {
   "cell_type": "markdown",
   "id": "d10420eb",
   "metadata": {
    "papermill": {
     "duration": 0.099406,
     "end_time": "2025-06-21T15:09:10.906066",
     "exception": false,
     "start_time": "2025-06-21T15:09:10.806660",
     "status": "completed"
    },
    "tags": []
   },
   "source": [
    "# Conclusion\n",
    "\n",
    "We successfully built an RNN model that can classify disaster tweets with somewhat reasonable accuracy. Further regularization of that model was counter-productive.\n",
    "\n",
    "## Key Result\n",
    "\n",
    "Our best model achieved **80% accuracy** on the validation set, effectively distinguishing between real disaster reports and non-disaster tweets\n",
    "\n",
    "## Summary\n",
    "\n",
    "This project demonstrates that RNN models can reliably identify disaster-related content in social media text, making them useful for emergency response and monitoring applications."
   ]
  }
 ],
 "metadata": {
  "kaggle": {
   "accelerator": "none",
   "dataSources": [
    {
     "databundleVersionId": 869809,
     "sourceId": 17777,
     "sourceType": "competition"
    }
   ],
   "dockerImageVersionId": 31040,
   "isGpuEnabled": false,
   "isInternetEnabled": true,
   "language": "python",
   "sourceType": "notebook"
  },
  "kernelspec": {
   "display_name": "Python 3",
   "language": "python",
   "name": "python3"
  },
  "language_info": {
   "codemirror_mode": {
    "name": "ipython",
    "version": 3
   },
   "file_extension": ".py",
   "mimetype": "text/x-python",
   "name": "python",
   "nbconvert_exporter": "python",
   "pygments_lexer": "ipython3",
   "version": "3.11.11"
  },
  "papermill": {
   "default_parameters": {},
   "duration": 224.434318,
   "end_time": "2025-06-21T15:09:14.694386",
   "environment_variables": {},
   "exception": null,
   "input_path": "__notebook__.ipynb",
   "output_path": "__notebook__.ipynb",
   "parameters": {},
   "start_time": "2025-06-21T15:05:30.260068",
   "version": "2.6.0"
  }
 },
 "nbformat": 4,
 "nbformat_minor": 5
}
